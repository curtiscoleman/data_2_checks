{
 "cells": [
  {
   "cell_type": "code",
   "execution_count": 126,
   "metadata": {},
   "outputs": [],
   "source": [
    "## Knowledge check unsing API"
   ]
  },
  {
   "cell_type": "code",
   "execution_count": 127,
   "metadata": {},
   "outputs": [
    {
     "name": "stdout",
     "output_type": "stream",
     "text": [
      "<Response [200]>\n"
     ]
    }
   ],
   "source": [
    "import requests\n",
    "import json\n",
    "import pandas as pd\n",
    "\n",
    "url = 'https://randomuser.me/api/'\n",
    "users_API = requests.get('https://randomuser.me/api/')\n",
    "print(users_API)\n",
    "# Looking for the '200' repsonse to verify connection"
   ]
  },
  {
   "cell_type": "code",
   "execution_count": 128,
   "metadata": {},
   "outputs": [
    {
     "data": {
      "text/plain": [
       "[{'gender': 'female',\n",
       "  'name': {'title': 'Mrs', 'first': 'Amelia', 'last': 'Novak'},\n",
       "  'location': {'street': {'number': 98, 'name': 'Bay Ave'},\n",
       "   'city': 'Chipman',\n",
       "   'state': 'New Brunswick',\n",
       "   'country': 'Canada',\n",
       "   'postcode': 'A2J 2Y5',\n",
       "   'coordinates': {'latitude': '-69.7690', 'longitude': '36.0903'},\n",
       "   'timezone': {'offset': '-6:00',\n",
       "    'description': 'Central Time (US & Canada), Mexico City'}},\n",
       "  'email': 'amelia.novak@example.com',\n",
       "  'login': {'uuid': '1b630334-171c-4e76-9d98-d6b88c6d56ed',\n",
       "   'username': 'orangesnake444',\n",
       "   'password': 'moonligh',\n",
       "   'salt': 'EgX7BxhY',\n",
       "   'md5': '21979d1d9e86828c9761b92e8ee0024a',\n",
       "   'sha1': '936e60f306ece02e177973fc72ca5a94a9100f83',\n",
       "   'sha256': '65fd09e9ef9974221bcb26f9e49ce9def0a3323c03131e21d4cff7060dc6d085'},\n",
       "  'dob': {'date': '1986-11-12T02:03:19.203Z', 'age': 36},\n",
       "  'registered': {'date': '2013-07-15T21:57:53.365Z', 'age': 9},\n",
       "  'phone': 'U48 I39-8910',\n",
       "  'cell': 'Q56 R72-0401',\n",
       "  'id': {'name': 'SIN', 'value': '019336783'},\n",
       "  'picture': {'large': 'https://randomuser.me/api/portraits/women/48.jpg',\n",
       "   'medium': 'https://randomuser.me/api/portraits/med/women/48.jpg',\n",
       "   'thumbnail': 'https://randomuser.me/api/portraits/thumb/women/48.jpg'},\n",
       "  'nat': 'CA'}]"
      ]
     },
     "execution_count": 128,
     "metadata": {},
     "output_type": "execute_result"
    }
   ],
   "source": [
    "users_data = users_API.text\n",
    "json = users_API.json()\n",
    "json.keys()\n",
    "# there are two dictionary keys in this API 'results' and 'info'\n",
    "json['results']"
   ]
  },
  {
   "cell_type": "code",
   "execution_count": 129,
   "metadata": {},
   "outputs": [
    {
     "data": {
      "text/plain": [
       "(1, 12)"
      ]
     },
     "execution_count": 129,
     "metadata": {},
     "output_type": "execute_result"
    }
   ],
   "source": [
    "random_users_df = pd.DataFrame(json['results'])\n",
    "random_users_df.shape\n",
    "#one row, twelve columns"
   ]
  },
  {
   "cell_type": "code",
   "execution_count": 130,
   "metadata": {},
   "outputs": [
    {
     "data": {
      "text/plain": [
       "0    female\n",
       "Name: gender, dtype: object"
      ]
     },
     "execution_count": 130,
     "metadata": {},
     "output_type": "execute_result"
    }
   ],
   "source": [
    "random_users_df['gender']"
   ]
  },
  {
   "cell_type": "code",
   "execution_count": 131,
   "metadata": {},
   "outputs": [
    {
     "data": {
      "text/html": [
       "<div>\n",
       "<style scoped>\n",
       "    .dataframe tbody tr th:only-of-type {\n",
       "        vertical-align: middle;\n",
       "    }\n",
       "\n",
       "    .dataframe tbody tr th {\n",
       "        vertical-align: top;\n",
       "    }\n",
       "\n",
       "    .dataframe thead th {\n",
       "        text-align: right;\n",
       "    }\n",
       "</style>\n",
       "<table border=\"1\" class=\"dataframe\">\n",
       "  <thead>\n",
       "    <tr style=\"text-align: right;\">\n",
       "      <th></th>\n",
       "      <th>name</th>\n",
       "      <th>location</th>\n",
       "    </tr>\n",
       "  </thead>\n",
       "  <tbody>\n",
       "    <tr>\n",
       "      <th>0</th>\n",
       "      <td>{'title': 'Mrs', 'first': 'Amelia', 'last': 'N...</td>\n",
       "      <td>{'street': {'number': 98, 'name': 'Bay Ave'}, ...</td>\n",
       "    </tr>\n",
       "  </tbody>\n",
       "</table>\n",
       "</div>"
      ],
      "text/plain": [
       "                                                name  \\\n",
       "0  {'title': 'Mrs', 'first': 'Amelia', 'last': 'N...   \n",
       "\n",
       "                                            location  \n",
       "0  {'street': {'number': 98, 'name': 'Bay Ave'}, ...  "
      ]
     },
     "execution_count": 131,
     "metadata": {},
     "output_type": "execute_result"
    }
   ],
   "source": [
    "random_users_df[['name', 'location']]\n",
    "#second and third column"
   ]
  },
  {
   "cell_type": "code",
   "execution_count": 132,
   "metadata": {},
   "outputs": [
    {
     "data": {
      "text/html": [
       "<div>\n",
       "<style scoped>\n",
       "    .dataframe tbody tr th:only-of-type {\n",
       "        vertical-align: middle;\n",
       "    }\n",
       "\n",
       "    .dataframe tbody tr th {\n",
       "        vertical-align: top;\n",
       "    }\n",
       "\n",
       "    .dataframe thead th {\n",
       "        text-align: right;\n",
       "    }\n",
       "</style>\n",
       "<table border=\"1\" class=\"dataframe\">\n",
       "  <thead>\n",
       "    <tr style=\"text-align: right;\">\n",
       "      <th></th>\n",
       "      <th>gender</th>\n",
       "      <th>name</th>\n",
       "      <th>location</th>\n",
       "      <th>email</th>\n",
       "      <th>login</th>\n",
       "      <th>dob</th>\n",
       "      <th>registered</th>\n",
       "      <th>phone</th>\n",
       "      <th>cell</th>\n",
       "      <th>id</th>\n",
       "      <th>picture</th>\n",
       "      <th>nat</th>\n",
       "    </tr>\n",
       "  </thead>\n",
       "  <tbody>\n",
       "    <tr>\n",
       "      <th>0</th>\n",
       "      <td>female</td>\n",
       "      <td>{'title': 'Mrs', 'first': 'Amelia', 'last': 'N...</td>\n",
       "      <td>{'street': {'number': 98, 'name': 'Bay Ave'}, ...</td>\n",
       "      <td>amelia.novak@example.com</td>\n",
       "      <td>{'uuid': '1b630334-171c-4e76-9d98-d6b88c6d56ed...</td>\n",
       "      <td>{'date': '1986-11-12T02:03:19.203Z', 'age': 36}</td>\n",
       "      <td>{'date': '2013-07-15T21:57:53.365Z', 'age': 9}</td>\n",
       "      <td>U48 I39-8910</td>\n",
       "      <td>Q56 R72-0401</td>\n",
       "      <td>{'name': 'SIN', 'value': '019336783'}</td>\n",
       "      <td>{'large': 'https://randomuser.me/api/portraits...</td>\n",
       "      <td>CA</td>\n",
       "    </tr>\n",
       "  </tbody>\n",
       "</table>\n",
       "</div>"
      ],
      "text/plain": [
       "   gender                                               name  \\\n",
       "0  female  {'title': 'Mrs', 'first': 'Amelia', 'last': 'N...   \n",
       "\n",
       "                                            location  \\\n",
       "0  {'street': {'number': 98, 'name': 'Bay Ave'}, ...   \n",
       "\n",
       "                      email  \\\n",
       "0  amelia.novak@example.com   \n",
       "\n",
       "                                               login  \\\n",
       "0  {'uuid': '1b630334-171c-4e76-9d98-d6b88c6d56ed...   \n",
       "\n",
       "                                               dob  \\\n",
       "0  {'date': '1986-11-12T02:03:19.203Z', 'age': 36}   \n",
       "\n",
       "                                       registered         phone          cell  \\\n",
       "0  {'date': '2013-07-15T21:57:53.365Z', 'age': 9}  U48 I39-8910  Q56 R72-0401   \n",
       "\n",
       "                                      id  \\\n",
       "0  {'name': 'SIN', 'value': '019336783'}   \n",
       "\n",
       "                                             picture nat  \n",
       "0  {'large': 'https://randomuser.me/api/portraits...  CA  "
      ]
     },
     "execution_count": 132,
     "metadata": {},
     "output_type": "execute_result"
    }
   ],
   "source": [
    "random_users_df.head(4)\n",
    "\n",
    "#since this API updates everytime you run the cells, it only shows on row at a time, however the above code would produce the first 4 rows if there were more than one"
   ]
  }
 ],
 "metadata": {
  "kernelspec": {
   "display_name": "Python 3",
   "language": "python",
   "name": "python3"
  },
  "language_info": {
   "codemirror_mode": {
    "name": "ipython",
    "version": 3
   },
   "file_extension": ".py",
   "mimetype": "text/x-python",
   "name": "python",
   "nbconvert_exporter": "python",
   "pygments_lexer": "ipython3",
   "version": "3.10.11"
  },
  "orig_nbformat": 4
 },
 "nbformat": 4,
 "nbformat_minor": 2
}
